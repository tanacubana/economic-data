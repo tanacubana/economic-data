{
 "cells": [
  {
   "cell_type": "code",
   "execution_count": 6,
   "metadata": {},
   "outputs": [],
   "source": [
    "\"\"\"South Africa's real fuel prices calculated by CPI\"\"\"\n",
    "import pandas as pd \n"
   ]
  },
  {
   "cell_type": "code",
   "execution_count": 7,
   "metadata": {},
   "outputs": [
    {
     "name": "stdout",
     "output_type": "stream",
     "text": [
      "          Price of Coastal Petrol c/l  Price of Gauteng Petrol c/l  CPI\n",
      "2016 Jan                         1194                         1209  6.2\n",
      "2017 Jan                         1285                         1309  6.6\n",
      "2018 Jan                         1393                         1420  4.4\n",
      "2019 Jan                         1342                         1379  4.0\n",
      "2020 Jan                         1552                         1584  4.5\n",
      "2021 Jan                         1416                         1469  3.2\n",
      "2022 Jan                         1889                         1936  5.7\n"
     ]
    }
   ],
   "source": [
    "data={\n",
    "    \"Price of Coastal Petrol c/l\":[1194, 1285, 1393, 1342, 1552, 1416, 1889],\n",
    "    \"Price of Gauteng Petrol c/l\":[1209, 1309, 1420, 1379, 1584, 1469, 1936],\n",
    "    \"CPI\":[6.2, 6.6, 4.4, 4.0, 4.5, 3.2, 5.7]\n",
    "}\n",
    "SA_petrol = pd.DataFrame(data, index = [\"2016 Jan\", \"2017 Jan\", \"2018 Jan\", \"2019 Jan\", \"2020 Jan\", \"2021 Jan\", \"2022 Jan\"])\n",
    "print(SA_petrol)"
   ]
  },
  {
   "cell_type": "code",
   "execution_count": 8,
   "metadata": {},
   "outputs": [
    {
     "name": "stdout",
     "output_type": "stream",
     "text": [
      "4.942857142857143\n"
     ]
    }
   ],
   "source": [
    "mean_CPI = SA_petrol['CPI'].mean(axis=0)\n",
    "print(mean_CPI)"
   ]
  },
  {
   "cell_type": "code",
   "execution_count": 15,
   "metadata": {},
   "outputs": [],
   "source": [
    "import numpy as np\n",
    "# find closest value to mean_CPI (x) in CPI column\n",
    "def find_closest_value(s, x):\n",
    "    id = (np.abs(s-x)).argmin()\n",
    "    return s[id]\n",
    "\n",
    "columns = \"Price of Coastal Petrol c/l\",  \"Price of Gauteng Petrol c/l\",  \"CPI\""
   ]
  },
  {
   "cell_type": "code",
   "execution_count": 18,
   "metadata": {},
   "outputs": [
    {
     "data": {
      "text/plain": [
       "4.5"
      ]
     },
     "execution_count": 18,
     "metadata": {},
     "output_type": "execute_result"
    }
   ],
   "source": [
    "find_closest_value(s= SA_petrol['CPI'], x=mean_CPI)"
   ]
  }
 ],
 "metadata": {
  "kernelspec": {
   "display_name": "Python 3",
   "language": "python",
   "name": "python3"
  },
  "language_info": {
   "codemirror_mode": {
    "name": "ipython",
    "version": 3
   },
   "file_extension": ".py",
   "mimetype": "text/x-python",
   "name": "python",
   "nbconvert_exporter": "python",
   "pygments_lexer": "ipython3",
   "version": "3.10.8"
  },
  "orig_nbformat": 4
 },
 "nbformat": 4,
 "nbformat_minor": 2
}
