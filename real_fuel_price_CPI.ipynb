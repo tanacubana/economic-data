{
 "cells": [
  {
   "cell_type": "code",
   "execution_count": null,
   "metadata": {},
   "outputs": [],
   "source": [
    "\"\"\"South Africa's real fuel prices calculated by CPI\"\"\"\n",
    "import pandas as pd \n",
    "#creating a dataframe with the price of petrol\n",
    "data={\n",
    "    \"2016 Jan\": [1194, 1209, 94.4, 100],\n",
    "    \"2017 Jan\": [1285, 1309, 100.6, 100],\n",
    "    \"2018 Jan\": [1393, 1420, 105, 100],\n",
    "   \"2019 Jan\": [1342, 1379],\n",
    "   \"2020 Jan\": [1552, 1584],\n",
    "   \"2021 Jan\": [1416, 1469],\n",
    "   \"2022 Jan\": [1889, 1936], \n",
    "}\n",
    "SA_petrol = pd.DataFrame(data, index = [\"Price of Coastal Petrol c/l\",\"Price of Gauteng Petrol c/l\", \"CPI\", \"CPI base\"])\n",
    "print(SA_petrol)"
   ]
  }
 ],
 "metadata": {
  "language_info": {
   "name": "python"
  },
  "orig_nbformat": 4
 },
 "nbformat": 4,
 "nbformat_minor": 2
}
